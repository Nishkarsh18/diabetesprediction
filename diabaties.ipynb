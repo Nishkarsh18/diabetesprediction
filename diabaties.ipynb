{
 "cells": [
  {
   "cell_type": "code",
   "execution_count": 1,
   "metadata": {},
   "outputs": [],
   "source": [
    "import pandas as pd\n",
    "import numpy as np"
   ]
  },
  {
   "cell_type": "code",
   "execution_count": 2,
   "metadata": {},
   "outputs": [],
   "source": [
    "dfx = pd.read_csv(\"Diabetes_XTrain.csv\")"
   ]
  },
  {
   "cell_type": "code",
   "execution_count": 3,
   "metadata": {},
   "outputs": [],
   "source": [
    "dfy = pd.read_csv(\"Diabetes_YTrain.csv\")"
   ]
  },
  {
   "cell_type": "code",
   "execution_count": 4,
   "metadata": {},
   "outputs": [],
   "source": [
    "X = dfx.values\n",
    "Y = dfy.values"
   ]
  },
  {
   "cell_type": "code",
   "execution_count": 5,
   "metadata": {},
   "outputs": [
    {
     "name": "stdout",
     "output_type": "stream",
     "text": [
      "(576,)\n"
     ]
    }
   ],
   "source": [
    "Y = Y.reshape((-1,))\n",
    "print(Y.shape)\n"
   ]
  },
  {
   "cell_type": "code",
   "execution_count": 6,
   "metadata": {},
   "outputs": [],
   "source": [
    "def dist(x1,x2):\n",
    "    return np.sqrt((sum(x1-x2))**2)"
   ]
  },
  {
   "cell_type": "code",
   "execution_count": 7,
   "metadata": {},
   "outputs": [],
   "source": [
    "def knn(X,Y,querypoint,k=5):\n",
    "    vals=[]\n",
    "    m = X.shape[0]\n",
    "    for i in range(m):\n",
    "        d=dist(querypoint,X[i])\n",
    "        vals.append((d,Y[i]))\n",
    "    vals = sorted(vals)\n",
    "    vals = vals[:k]\n",
    "    vals = np.array(vals)\n",
    "    new_vals = np.unique(vals[:1],return_counts=True)\n",
    "    print(new_vals)\n",
    "    idx = new_vals[1].argmax()\n",
    "    pred = new_vals[0][idx]\n",
    "    return pred"
   ]
  },
  {
   "cell_type": "code",
   "execution_count": 8,
   "metadata": {},
   "outputs": [],
   "source": [
    "x_test= pd.read_csv(\"Diabetes_XTest.csv\")"
   ]
  },
  {
   "cell_type": "code",
   "execution_count": 9,
   "metadata": {},
   "outputs": [
    {
     "name": "stdout",
     "output_type": "stream",
     "text": [
      "[  0.    180.     90.     26.     90.     36.5     0.314  35.   ]\n"
     ]
    }
   ],
   "source": [
    "x_test = x_test.values\n",
    "print(x_test[0])"
   ]
  },
  {
   "cell_type": "code",
   "execution_count": 17,
   "metadata": {},
   "outputs": [
    {
     "name": "stdout",
     "output_type": "stream",
     "text": [
      "(array([0.574, 1.   ]), array([1, 1], dtype=int64))\n",
      "(array([0.   , 0.269]), array([1, 1], dtype=int64))\n",
      "(array([0.   , 0.012]), array([1, 1], dtype=int64))\n",
      "(array([0.   , 0.437]), array([1, 1], dtype=int64))\n",
      "(array([0.   , 0.067]), array([1, 1], dtype=int64))\n",
      "(array([0.   , 0.478]), array([1, 1], dtype=int64))\n",
      "(array([1.   , 2.329]), array([1, 1], dtype=int64))\n",
      "(array([1.   , 1.197]), array([1, 1], dtype=int64))\n",
      "(array([0.   , 0.338]), array([1, 1], dtype=int64))\n",
      "(array([0.  , 0.13]), array([1, 1], dtype=int64))\n",
      "(array([0.   , 0.183]), array([1, 1], dtype=int64))\n",
      "(array([0.   , 0.381]), array([1, 1], dtype=int64))\n",
      "(array([ 1.   , 13.807]), array([1, 1], dtype=int64))\n",
      "(array([0.   , 0.829]), array([1, 1], dtype=int64))\n",
      "(array([0.   , 0.017]), array([1, 1], dtype=int64))\n",
      "(array([0.16, 1.  ]), array([1, 1], dtype=int64))\n",
      "(array([0.   , 0.151]), array([1, 1], dtype=int64))\n",
      "(array([0.   , 0.214]), array([1, 1], dtype=int64))\n",
      "(array([0.467, 1.   ]), array([1, 1], dtype=int64))\n",
      "(array([1.   , 1.585]), array([1, 1], dtype=int64))\n",
      "(array([0.   , 0.723]), array([1, 1], dtype=int64))\n",
      "(array([0.192, 1.   ]), array([1, 1], dtype=int64))\n",
      "(array([0.   , 0.986]), array([1, 1], dtype=int64))\n",
      "(array([0.   , 0.094]), array([1, 1], dtype=int64))\n",
      "(array([0.   , 0.786]), array([1, 1], dtype=int64))\n",
      "(array([0.   , 0.343]), array([1, 1], dtype=int64))\n",
      "(array([0.   , 0.685]), array([1, 1], dtype=int64))\n",
      "(array([0.   , 0.041]), array([1, 1], dtype=int64))\n",
      "(array([0.   , 0.124]), array([1, 1], dtype=int64))\n",
      "(array([0.208, 1.   ]), array([1, 1], dtype=int64))\n",
      "(array([0.   , 0.375]), array([1, 1], dtype=int64))\n",
      "(array([0.   , 0.506]), array([1, 1], dtype=int64))\n",
      "(array([0.143, 1.   ]), array([1, 1], dtype=int64))\n",
      "(array([0.   , 0.042]), array([1, 1], dtype=int64))\n",
      "(array([0.   , 0.487]), array([1, 1], dtype=int64))\n",
      "(array([0.123, 1.   ]), array([1, 1], dtype=int64))\n",
      "(array([0.036, 1.   ]), array([1, 1], dtype=int64))\n",
      "(array([0.   , 1.034]), array([1, 1], dtype=int64))\n",
      "(array([0.   , 0.112]), array([1, 1], dtype=int64))\n",
      "(array([0.   , 0.193]), array([1, 1], dtype=int64))\n",
      "(array([0.   , 0.832]), array([1, 1], dtype=int64))\n",
      "(array([0.   , 0.563]), array([1, 1], dtype=int64))\n",
      "(array([0.   , 0.082]), array([1, 1], dtype=int64))\n",
      "(array([0.   , 0.321]), array([1, 1], dtype=int64))\n",
      "(array([1.   , 2.191]), array([1, 1], dtype=int64))\n",
      "(array([0.   , 0.035]), array([1, 1], dtype=int64))\n",
      "(array([0.  , 2.13]), array([1, 1], dtype=int64))\n",
      "(array([1.   , 2.105]), array([1, 1], dtype=int64))\n",
      "(array([0.   , 0.881]), array([1, 1], dtype=int64))\n",
      "(array([1.   , 3.446]), array([1, 1], dtype=int64))\n",
      "(array([0.021, 1.   ]), array([1, 1], dtype=int64))\n",
      "(array([0.462, 1.   ]), array([1, 1], dtype=int64))\n",
      "(array([1.   , 1.002]), array([1, 1], dtype=int64))\n",
      "(array([1.  , 1.73]), array([1, 1], dtype=int64))\n",
      "(array([0.   , 0.218]), array([1, 1], dtype=int64))\n",
      "(array([0.01, 1.  ]), array([1, 1], dtype=int64))\n",
      "(array([0.   , 0.432]), array([1, 1], dtype=int64))\n",
      "(array([0.   , 0.424]), array([1, 1], dtype=int64))\n",
      "(array([0.   , 0.222]), array([1, 1], dtype=int64))\n",
      "(array([0.   , 0.053]), array([1, 1], dtype=int64))\n",
      "(array([0.432, 1.   ]), array([1, 1], dtype=int64))\n",
      "(array([0.   , 0.245]), array([1, 1], dtype=int64))\n",
      "(array([0.   , 0.087]), array([1, 1], dtype=int64))\n",
      "(array([0.184, 1.   ]), array([1, 1], dtype=int64))\n",
      "(array([ 0.   , 84.469]), array([1, 1], dtype=int64))\n",
      "(array([0.   , 0.084]), array([1, 1], dtype=int64))\n",
      "(array([0.   , 0.153]), array([1, 1], dtype=int64))\n",
      "(array([0.   , 0.843]), array([1, 1], dtype=int64))\n",
      "(array([0.   , 0.016]), array([1, 1], dtype=int64))\n",
      "(array([0.116, 1.   ]), array([1, 1], dtype=int64))\n",
      "(array([0.286, 1.   ]), array([1, 1], dtype=int64))\n",
      "(array([0.801, 1.   ]), array([1, 1], dtype=int64))\n",
      "(array([1.   , 4.056]), array([1, 1], dtype=int64))\n",
      "(array([0.   , 0.192]), array([1, 1], dtype=int64))\n",
      "(array([0.063, 1.   ]), array([1, 1], dtype=int64))\n",
      "(array([0.   , 0.154]), array([1, 1], dtype=int64))\n",
      "(array([0.  , 0.47]), array([1, 1], dtype=int64))\n",
      "(array([0.   , 0.161]), array([1, 1], dtype=int64))\n",
      "(array([0.   , 0.089]), array([1, 1], dtype=int64))\n",
      "(array([0.16, 1.  ]), array([1, 1], dtype=int64))\n",
      "(array([0.   , 0.079]), array([1, 1], dtype=int64))\n",
      "(array([0.   , 0.128]), array([1, 1], dtype=int64))\n",
      "(array([0.   , 0.341]), array([1, 1], dtype=int64))\n",
      "(array([0.   , 0.445]), array([1, 1], dtype=int64))\n",
      "(array([0.   , 0.162]), array([1, 1], dtype=int64))\n",
      "(array([0.   , 0.887]), array([1, 1], dtype=int64))\n",
      "(array([1.   , 1.586]), array([1, 1], dtype=int64))\n",
      "(array([1.   , 1.934]), array([1, 1], dtype=int64))\n",
      "(array([0.   , 3.602]), array([1, 1], dtype=int64))\n",
      "(array([0.   , 0.608]), array([1, 1], dtype=int64))\n",
      "(array([1.   , 1.195]), array([1, 1], dtype=int64))\n",
      "(array([1.   , 1.036]), array([1, 1], dtype=int64))\n",
      "(array([0.225, 1.   ]), array([1, 1], dtype=int64))\n",
      "(array([0.298, 1.   ]), array([1, 1], dtype=int64))\n",
      "(array([0.394, 1.   ]), array([1, 1], dtype=int64))\n",
      "(array([0.24, 1.  ]), array([1, 1], dtype=int64))\n",
      "(array([0.   , 0.141]), array([1, 1], dtype=int64))\n",
      "(array([0.  , 0.03]), array([1, 1], dtype=int64))\n",
      "(array([0.   , 0.032]), array([1, 1], dtype=int64))\n",
      "(array([0.   , 0.212]), array([1, 1], dtype=int64))\n",
      "(array([0.  , 0.16]), array([1, 1], dtype=int64))\n",
      "(array([0.  , 0.59]), array([1, 1], dtype=int64))\n",
      "(array([0.   , 3.209]), array([1, 1], dtype=int64))\n",
      "(array([0.   , 0.082]), array([1, 1], dtype=int64))\n",
      "(array([0.   , 0.175]), array([1, 1], dtype=int64))\n",
      "(array([0.   , 0.077]), array([1, 1], dtype=int64))\n",
      "(array([0.   , 0.169]), array([1, 1], dtype=int64))\n",
      "(array([0.   , 0.113]), array([1, 1], dtype=int64))\n",
      "(array([0.202, 1.   ]), array([1, 1], dtype=int64))\n",
      "(array([0.   , 0.111]), array([1, 1], dtype=int64))\n",
      "(array([0.   , 0.219]), array([1, 1], dtype=int64))\n",
      "(array([0.   , 0.116]), array([1, 1], dtype=int64))\n",
      "(array([0.   , 0.827]), array([1, 1], dtype=int64))\n",
      "(array([0.   , 0.441]), array([1, 1], dtype=int64))\n",
      "(array([0.134, 1.   ]), array([1, 1], dtype=int64))\n",
      "(array([0.   , 0.002]), array([1, 1], dtype=int64))\n",
      "(array([0.   , 0.341]), array([1, 1], dtype=int64))\n",
      "(array([0.   , 0.568]), array([1, 1], dtype=int64))\n",
      "(array([0.104, 1.   ]), array([1, 1], dtype=int64))\n",
      "(array([0.   , 2.306]), array([1, 1], dtype=int64))\n",
      "(array([0.   , 0.005]), array([1, 1], dtype=int64))\n",
      "(array([0.   , 0.065]), array([1, 1], dtype=int64))\n",
      "(array([0.   , 0.227]), array([1, 1], dtype=int64))\n",
      "(array([1.   , 3.653]), array([1, 1], dtype=int64))\n",
      "(array([0. , 0.1]), array([1, 1], dtype=int64))\n",
      "(array([0.72, 1.  ]), array([1, 1], dtype=int64))\n",
      "(array([0.   , 0.082]), array([1, 1], dtype=int64))\n",
      "(array([0.078, 1.   ]), array([1, 1], dtype=int64))\n",
      "(array([0.   , 0.586]), array([1, 1], dtype=int64))\n",
      "(array([0.481, 1.   ]), array([1, 1], dtype=int64))\n",
      "(array([0.   , 0.074]), array([1, 1], dtype=int64))\n",
      "(array([0. , 0.1]), array([1, 1], dtype=int64))\n",
      "(array([0.   , 0.233]), array([1, 1], dtype=int64))\n",
      "(array([0., 1.]), array([1, 1], dtype=int64))\n",
      "(array([0.   , 0.636]), array([1, 1], dtype=int64))\n",
      "(array([0.   , 0.132]), array([1, 1], dtype=int64))\n",
      "(array([1.   , 2.153]), array([1, 1], dtype=int64))\n",
      "(array([1.  , 8.43]), array([1, 1], dtype=int64))\n",
      "(array([ 0.   , 80.302]), array([1, 1], dtype=int64))\n",
      "(array([0.   , 0.015]), array([1, 1], dtype=int64))\n",
      "(array([0.   , 0.051]), array([1, 1], dtype=int64))\n",
      "(array([0.   , 0.258]), array([1, 1], dtype=int64))\n",
      "(array([0.   , 1.237]), array([1, 1], dtype=int64))\n",
      "(array([0.   , 7.702]), array([1, 1], dtype=int64))\n",
      "(array([1.   , 2.764]), array([1, 1], dtype=int64))\n",
      "(array([0.   , 0.042]), array([1, 1], dtype=int64))\n",
      "(array([0.   , 0.399]), array([1, 1], dtype=int64))\n",
      "(array([1.   , 1.221]), array([1, 1], dtype=int64))\n",
      "(array([0.   , 0.102]), array([1, 1], dtype=int64))\n",
      "(array([0.   , 0.325]), array([1, 1], dtype=int64))\n",
      "(array([0.618, 1.   ]), array([1, 1], dtype=int64))\n",
      "(array([0.   , 0.035]), array([1, 1], dtype=int64))\n",
      "(array([0.167, 1.   ]), array([1, 1], dtype=int64))\n",
      "(array([0.   , 0.074]), array([1, 1], dtype=int64))\n",
      "(array([0.   , 0.374]), array([1, 1], dtype=int64))\n",
      "(array([0.346, 1.   ]), array([1, 1], dtype=int64))\n",
      "(array([0.653, 1.   ]), array([1, 1], dtype=int64))\n",
      "(array([1.   , 1.456]), array([1, 1], dtype=int64))\n",
      "(array([0.   , 0.121]), array([1, 1], dtype=int64))\n",
      "(array([0. , 0.4]), array([1, 1], dtype=int64))\n",
      "(array([0.   , 0.212]), array([1, 1], dtype=int64))\n",
      "(array([0.   , 0.005]), array([1, 1], dtype=int64))\n",
      "(array([0.063, 1.   ]), array([1, 1], dtype=int64))\n",
      "(array([0.   , 0.568]), array([1, 1], dtype=int64))\n",
      "(array([0.   , 0.076]), array([1, 1], dtype=int64))\n",
      "(array([0.   , 0.154]), array([1, 1], dtype=int64))\n",
      "(array([0.   , 0.454]), array([1, 1], dtype=int64))\n",
      "(array([0.021, 1.   ]), array([1, 1], dtype=int64))\n",
      "(array([0.   , 0.124]), array([1, 1], dtype=int64))\n",
      "(array([0.   , 0.852]), array([1, 1], dtype=int64))\n",
      "(array([0.   , 0.402]), array([1, 1], dtype=int64))\n",
      "(array([0.548, 1.   ]), array([1, 1], dtype=int64))\n",
      "(array([0.   , 0.087]), array([1, 1], dtype=int64))\n",
      "(array([0.   , 0.083]), array([1, 1], dtype=int64))\n",
      "(array([0.   , 0.032]), array([1, 1], dtype=int64))\n"
     ]
    },
    {
     "name": "stdout",
     "output_type": "stream",
     "text": [
      "(array([0.   , 0.474]), array([1, 1], dtype=int64))\n",
      "(array([0.   , 0.159]), array([1, 1], dtype=int64))\n",
      "(array([0.579, 1.   ]), array([1, 1], dtype=int64))\n",
      "(array([0.092, 1.   ]), array([1, 1], dtype=int64))\n",
      "(array([1.   , 1.037]), array([1, 1], dtype=int64))\n",
      "(array([1.   , 1.425]), array([1, 1], dtype=int64))\n",
      "(array([0.421, 1.   ]), array([1, 1], dtype=int64))\n",
      "(array([0.   , 0.536]), array([1, 1], dtype=int64))\n",
      "(array([0.   , 0.039]), array([1, 1], dtype=int64))\n",
      "(array([0.   , 0.492]), array([1, 1], dtype=int64))\n",
      "(array([0.008, 1.   ]), array([1, 1], dtype=int64))\n",
      "(array([0.   , 0.022]), array([1, 1], dtype=int64))\n",
      "(array([0.007, 1.   ]), array([1, 1], dtype=int64))\n",
      "(array([0.   , 0.082]), array([1, 1], dtype=int64))\n",
      "(array([0.   , 0.098]), array([1, 1], dtype=int64))\n",
      "(array([0.   , 0.052]), array([1, 1], dtype=int64))\n",
      "(array([0.   , 0.186]), array([1, 1], dtype=int64))\n",
      "[1 0 0 0 0 0 1 1 0 0 0 0 1 0 0 0 0 0 0 1 0 0 0 0 0 0 0 0 0 0 0 0 0 0 0 0 0\n",
      " 0 0 0 0 0 0 0 1 0 0 1 0 1 0 0 1 1 0 0 0 0 0 0 0 0 0 0 0 0 0 0 0 0 0 1 1 0\n",
      " 0 0 0 0 0 0 0 0 0 0 0 0 1 1 0 0 1 1 0 0 0 0 0 0 0 0 0 0 0 0 0 0 0 0 0 0 0\n",
      " 0 0 0 0 0 0 0 0 0 0 0 0 1 0 1 0 0 0 0 0 0 0 0 0 0 1 1 0 0 0 0 0 0 1 0 0 1\n",
      " 0 0 1 0 0 0 0 0 1 1 0 0 0 0 0 0 0 0 0 0 0 0 0 1 0 0 0 0 0 1 0 1 1 0 0 0 0\n",
      " 0 0 0 0 0 0 0]\n"
     ]
    }
   ],
   "source": [
    "m = x_test.shape[0]\n",
    "ans = []\n",
    "for i in range(m):\n",
    "    k = knn(X,Y,x_test[i],150)\n",
    "    if (k<0.5):\n",
    "        k = 0\n",
    "    else:\n",
    "        k=1\n",
    "    ans.append(k)\n",
    "ans = np.array(ans)\n",
    "print(ans)\n"
   ]
  },
  {
   "cell_type": "code",
   "execution_count": 18,
   "metadata": {},
   "outputs": [],
   "source": [
    "answer = {\"Outcome\": ans}\n",
    "df = pd.DataFrame(answer)\n",
    "df.to_csv(\"answer5.csv\",index=False)"
   ]
  },
  {
   "cell_type": "code",
   "execution_count": null,
   "metadata": {},
   "outputs": [],
   "source": []
  }
 ],
 "metadata": {
  "kernelspec": {
   "display_name": "Python 3",
   "language": "python",
   "name": "python3"
  },
  "language_info": {
   "codemirror_mode": {
    "name": "ipython",
    "version": 3
   },
   "file_extension": ".py",
   "mimetype": "text/x-python",
   "name": "python",
   "nbconvert_exporter": "python",
   "pygments_lexer": "ipython3",
   "version": "3.7.3"
  }
 },
 "nbformat": 4,
 "nbformat_minor": 2
}
